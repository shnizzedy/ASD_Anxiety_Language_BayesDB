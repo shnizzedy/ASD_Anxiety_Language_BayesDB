{
 "cells": [
  {
   "cell_type": "markdown",
   "metadata": {},
   "source": [
    "## Setting up the Jupyter environment"
   ]
  },
  {
   "cell_type": "markdown",
   "metadata": {},
   "source": [
    "The first step is to load the `jupyter_probcomp.magics` library, which provides BayesDB hooks for data exploration, plotting, querying, and analysis through this Jupyter notebook environment. The second cell allows plots from matplotlib and javascript to be shown inline."
   ]
  },
  {
   "cell_type": "code",
   "execution_count": 1,
   "metadata": {},
   "outputs": [
    {
     "name": "stdout",
     "output_type": "stream",
     "text": [
      "session_id: jovyan@jclucas-notebook_2018-05-30T22:22:19.801135_3\n"
     ]
    }
   ],
   "source": [
    "%load_ext jupyter_probcomp.magics"
   ]
  },
  {
   "cell_type": "code",
   "execution_count": 2,
   "metadata": {},
   "outputs": [
    {
     "data": {
      "application/javascript": [
       "//   Copyright (c) 2010-2016, MIT Probabilistic Computing Project\n",
       "//\n",
       "//   Licensed under the Apache License, Version 2.0 (the \"License\");\n",
       "//   you may not use this file except in compliance with the License.\n",
       "//   You may obtain a copy of the License at\n",
       "//\n",
       "//       http://www.apache.org/licenses/LICENSE-2.0\n",
       "//\n",
       "//   Unless required by applicable law or agreed to in writing, software\n",
       "//   distributed under the License is distributed on an \"AS IS\" BASIS,\n",
       "//   WITHOUT WARRANTIES OR CONDITIONS OF ANY KIND, either express or implied.\n",
       "//   See the License for the specific language governing permissions and\n",
       "//   limitations under the License.\n",
       "\n",
       "var myCell = element\n",
       "window.VizGPMReady = new Promise(resolve => {\n",
       "  $.getScript('https://probcomp-2.csail.mit.edu/vizgpm/vizgpm.js', function() {\n",
       "    myCell.append('Loaded VizGPM v' + VizGPM.version);\n",
       "    $.getScript('https://cdnjs.cloudflare.com/ajax/libs/lodash.js/4.17.4/lodash.js', function() {\n",
       "      myCell.append('Loaded lodash v' + _.VERSION);\n",
       "      VizGPM._ = _.noConflict();\n",
       "      resolve(VizGPM)\n",
       "    });\n",
       "  })\n",
       "})\n"
      ],
      "text/plain": [
       "<IPython.core.display.Javascript object>"
      ]
     },
     "execution_count": 2,
     "metadata": {},
     "output_type": "execute_result"
    }
   ],
   "source": [
    "%matplotlib inline\n",
    "%vizgpm inline"
   ]
  },
  {
   "cell_type": "code",
   "execution_count": null,
   "metadata": {},
   "outputs": [],
   "source": []
  }
 ],
 "metadata": {
  "kernelspec": {
   "display_name": "Python 2",
   "language": "python",
   "name": "python2"
  },
  "language_info": {
   "codemirror_mode": {
    "name": "ipython",
    "version": 2
   },
   "file_extension": ".py",
   "mimetype": "text/x-python",
   "name": "python",
   "nbconvert_exporter": "python",
   "pygments_lexer": "ipython2",
   "version": "2.7.11"
  }
 },
 "nbformat": 4,
 "nbformat_minor": 2
}
